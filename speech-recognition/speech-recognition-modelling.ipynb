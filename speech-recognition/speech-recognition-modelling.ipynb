{
 "cells": [
  {
   "cell_type": "code",
   "execution_count": 62,
   "metadata": {},
   "outputs": [],
   "source": [
    "import os\n",
    "from scipy.io import wavfile\n",
    "import pandas as pd\n",
    "import matplotlib.pyplot as plt\n",
    "import numpy as np\n",
    "from keras.layers import Conv2D, MaxPool2D, Flatten, LSTM\n",
    "from keras.layers import Dropout, Dense, TimeDistributed\n",
    "from keras.models import Sequential\n",
    "from keras.utils import to_categorical\n",
    "from sklearn.utils.class_weight import compute_class_weight\n",
    "from tqdm import tqdm\n",
    "from python_speech_features import mfcc\n",
    "import pickle\n",
    "from keras.callbacks import ModelCheckpoint\n",
    "from config import Config"
   ]
  },
  {
   "cell_type": "code",
   "execution_count": 63,
   "metadata": {},
   "outputs": [],
   "source": [
    "class Config:\n",
    "    def __init__(self,mode='conv', nfilt=26, nfeat=13, nfft=512, rate=16000):\n",
    "        self.mode = mode\n",
    "        self.nfilt = nfilt\n",
    "        self.nfeat = nfeat\n",
    "        self.nfft = nfft\n",
    "        self.rate = rate\n",
    "        self.step = int(rate/10)"
   ]
  },
  {
   "cell_type": "code",
   "execution_count": 64,
   "metadata": {},
   "outputs": [],
   "source": [
    "speech_df = pd.read_csv('my-voice-amongsts-instruments.csv')"
   ]
  },
  {
   "cell_type": "code",
   "execution_count": 65,
   "metadata": {},
   "outputs": [],
   "source": [
    "speech_df.set_index('fname', inplace=True)"
   ]
  },
  {
   "cell_type": "code",
   "execution_count": 66,
   "metadata": {},
   "outputs": [],
   "source": [
    "for f in speech_df.index:\n",
    "    rate, signal = wavfile.read('clean/'+f)\n",
    "    speech_df.at[f, 'length'] = signal.shape[0]/rate"
   ]
  },
  {
   "cell_type": "code",
   "execution_count": 67,
   "metadata": {},
   "outputs": [],
   "source": [
    "classes = list(np.unique(speech_df.label))"
   ]
  },
  {
   "cell_type": "code",
   "execution_count": 68,
   "metadata": {},
   "outputs": [],
   "source": [
    "class_dist = speech_df.groupby(['label'])['length'].mean()"
   ]
  },
  {
   "cell_type": "code",
   "execution_count": 69,
   "metadata": {},
   "outputs": [
    {
     "data": {
      "image/png": "[encoded data removed]",
      "text/plain": [
       "<Figure size 432x288 with 1 Axes>"
      ]
     },
     "metadata": {},
     "output_type": "display_data"
    }
   ],
   "source": [
    "fig, ax = plt.subplots()\n",
    "ax.set_title('Class Distribution', y=1.08)\n",
    "ax.pie(class_dist, labels=class_dist.index, autopct='%1.1f%%',\n",
    "       shadow=False, startangle=90)\n",
    "ax.axis('equal')\n",
    "plt.show()"
   ]
  },
  {
   "cell_type": "code",
   "execution_count": 70,
   "metadata": {},
   "outputs": [
    {
     "data": {
      "text/plain": [
       "26350"
      ]
     },
     "execution_count": 70,
     "metadata": {},
     "output_type": "execute_result"
    }
   ],
   "source": [
    "n_samples = 2 * int(speech_df['length'].sum() / 0.1)\n",
    "n_samples"
   ]
  },
  {
   "cell_type": "code",
   "execution_count": 71,
   "metadata": {},
   "outputs": [
    {
     "data": {
      "text/plain": [
       "label\n",
       "1eDs54829Hec        0.062601\n",
       "Acoustic_guitar     0.125772\n",
       "Bass_drum           0.023417\n",
       "Cello               0.110611\n",
       "Clarinet            0.133703\n",
       "Double_bass         0.065528\n",
       "Flute               0.160309\n",
       "Saxophone           0.156312\n",
       "Snare_drum          0.064154\n",
       "Violin_or_fiddle    0.097593\n",
       "Name: length, dtype: float64"
      ]
     },
     "execution_count": 71,
     "metadata": {},
     "output_type": "execute_result"
    }
   ],
   "source": [
    "# Build a probability distribution\n",
    "prob_dist = class_dist / class_dist.sum()\n",
    "prob_dist"
   ]
  },
  {
   "cell_type": "code",
   "execution_count": 72,
   "metadata": {},
   "outputs": [
    {
     "data": {
      "text/plain": [
       "'Saxophone'"
      ]
     },
     "execution_count": 72,
     "metadata": {},
     "output_type": "execute_result"
    }
   ],
   "source": [
    "# random sampling\n",
    "choices = np.random.choice(class_dist.index, p=prob_dist)\n",
    "choices"
   ]
  },
  {
   "cell_type": "code",
   "execution_count": 73,
   "metadata": {},
   "outputs": [],
   "source": [
    "# Initialize the config\n",
    "config = Config(mode='conv')"
   ]
  },
  {
   "cell_type": "code",
   "execution_count": 74,
   "metadata": {},
   "outputs": [],
   "source": [
    "def build_rand_feat():\n",
    "    X = []\n",
    "    y = []\n",
    "    _min, _max  =float('inf'), -float('inf')\n",
    "    for _ in tqdm(range(n_samples)):\n",
    "        rand_class = np.random.choice(class_dist.index,p=prob_dist)\n",
    "        file = np.random.choice(speech_df[speech_df.label==rand_class].index)\n",
    "        rate, wav = wavfile.read('clean/'+file)\n",
    "        label = speech_df.at[file,'label']\n",
    "        rand_index = np.random.randint(0,wav.shape[0] - config.step)\n",
    "        sample = wav[rand_index:rand_index+config.step]\n",
    "        X_sample = mfcc(sample,rate,numcep=config.nfeat,nfilt=config.nfilt,nfft=config.nfft).T\n",
    "        \n",
    "        _min = min(np.amin(X_sample), _min)\n",
    "        _max = max(np.amax(X_sample), _max)\n",
    "        \n",
    "        X.append(X_sample if config.mode == 'conv' else X_sample.T)\n",
    "        y.append(classes.index(label))\n",
    "        \n",
    "    X,y = np.array(X), np.array(y)\n",
    "    X = (X - _min) / (_max - _min) # rescaling\n",
    "    \n",
    "    if config.mode == 'conv': # Building a convolution neural network\n",
    "        X = X.reshape(X.shape[0],X.shape[1],X.shape[2],1)\n",
    "    elif config.mode == 'time': # Build a recurrent neural network\n",
    "        X = X.reshape(X.shape[0],X.shape[1],X.shape[2])\n",
    "    \n",
    "    y  = to_categorical(y, num_classes=10)\n",
    "    \n",
    "    return X, y        "
   ]
  },
  {
   "cell_type": "code",
   "execution_count": 75,
   "metadata": {},
   "outputs": [],
   "source": [
    "def get_conv_model():\n",
    "    model = Sequential()\n",
    "    model.add(Conv2D(16, (3,3), activation='relu', strides=(1,1), padding='same', input_shape=input_shape ))\n",
    "    model.add(Conv2D(32, (3,3), activation='relu', strides=(1,1), padding='same'))\n",
    "    model.add(Conv2D(64, (3,3), activation='relu', strides=(1,1), padding='same'))\n",
    "    model.add(Conv2D(128, (3,3), activation='relu', strides=(1,1), padding='same'))\n",
    "    model.add(MaxPool2D((2,2)))\n",
    "    model.add(Dropout(0.5))\n",
    "    model.add(Flatten())\n",
    "    model.add(Dense(128,activation='relu'))\n",
    "    model.add(Dense(64,activation='relu'))\n",
    "    model.add(Dense(10,activation='softmax'))\n",
    "    model.summary()\n",
    "    model.compile(loss='categorical_crossentropy',optimizer='adam',metrics=['acc'])\n",
    "    return model"
   ]
  },
  {
   "cell_type": "code",
   "execution_count": 76,
   "metadata": {},
   "outputs": [],
   "source": [
    "def get_recurrent_model():\n",
    "    # Shape of data for RNN is n,time,feat\n",
    "    model = Sequential()\n",
    "    model.add(LSTM(128, return_sequences=True,input_shape=input_shape))\n",
    "    model.add(LSTM(128, return_sequences=True))\n",
    "    model.add(Dropout(0.5))\n",
    "    model.add(TimeDistributed(Dense(64,activation='relu')))\n",
    "    model.add(TimeDistributed(Dense(32,activation='relu')))\n",
    "    model.add(TimeDistributed(Dense(16,activation='relu')))\n",
    "    model.add(TimeDistributed(Dense(8,activation='relu')))\n",
    "    model.add(Flatten())          \n",
    "    model.add(Dense(10,activation='softmax'))\n",
    "    model.summary()\n",
    "    model.compile(loss='categorical_crossentropy',optimizer='adam',metrics=['acc'])\n",
    "    return model"
   ]
  },
  {
   "cell_type": "code",
   "execution_count": 77,
   "metadata": {},
   "outputs": [
    {
     "name": "stderr",
     "output_type": "stream",
     "text": [
      "100%|██████████| 26350/26350 [03:29<00:00, 125.80it/s]\n"
     ]
    },
    {
     "name": "stdout",
     "output_type": "stream",
     "text": [
      "_________________________________________________________________\n",
      "Layer (type)                 Output Shape              Param #   \n",
      "=================================================================\n",
      "conv2d_9 (Conv2D)            (None, 13, 9, 16)         160       \n",
      "_________________________________________________________________\n",
      "conv2d_10 (Conv2D)           (None, 13, 9, 32)         4640      \n",
      "_________________________________________________________________\n",
      "conv2d_11 (Conv2D)           (None, 13, 9, 64)         18496     \n",
      "_________________________________________________________________\n",
      "conv2d_12 (Conv2D)           (None, 13, 9, 128)        73856     \n",
      "_________________________________________________________________\n",
      "max_pooling2d_3 (MaxPooling2 (None, 6, 4, 128)         0         \n",
      "_________________________________________________________________\n",
      "dropout_3 (Dropout)          (None, 6, 4, 128)         0         \n",
      "_________________________________________________________________\n",
      "flatten_3 (Flatten)          (None, 3072)              0         \n",
      "_________________________________________________________________\n",
      "dense_7 (Dense)              (None, 128)               393344    \n",
      "_________________________________________________________________\n",
      "dense_8 (Dense)              (None, 64)                8256      \n",
      "_________________________________________________________________\n",
      "dense_9 (Dense)              (None, 10)                650       \n",
      "=================================================================\n",
      "Total params: 499,402\n",
      "Trainable params: 499,402\n",
      "Non-trainable params: 0\n",
      "_________________________________________________________________\n"
     ]
    }
   ],
   "source": [
    "if config.mode == 'conv':\n",
    "    X, y = build_rand_feat()\n",
    "    y_flat = np.argmax(y, axis=1)\n",
    "    input_shape = (X.shape[1],X.shape[2], 1)\n",
    "    model = get_conv_model()\n",
    "    \n",
    "elif config.mode == 'time':\n",
    "    X, y = build_rand_feat()\n",
    "    y_flat = np.argmax(y, axis=1)\n",
    "    input_shape = (X.shape[1],X.shape[2])\n",
    "    model = get_recurrent_model()"
   ]
  },
  {
   "cell_type": "code",
   "execution_count": 78,
   "metadata": {},
   "outputs": [],
   "source": [
    "class_weight = compute_class_weight('balanced', np.unique(y_flat), y_flat)"
   ]
  },
  {
   "cell_type": "code",
   "execution_count": 79,
   "metadata": {},
   "outputs": [
    {
     "name": "stderr",
     "output_type": "stream",
     "text": [
      "W1026 02:21:47.695259 139910939060032 deprecation.py:323] From /usr/local/gcti/anaconda3/lib/python3.7/site-packages/tensorflow/python/ops/math_grad.py:1250: add_dispatch_support.<locals>.wrapper (from tensorflow.python.ops.array_ops) is deprecated and will be removed in a future version.\n",
      "Instructions for updating:\n",
      "Use tf.where in 2.0, which has the same broadcast rule as np.where\n"
     ]
    },
    {
     "name": "stdout",
     "output_type": "stream",
     "text": [
      "Epoch 1/11\n",
      "26350/26350 [==============================] - 61s 2ms/step - loss: 1.1462 - acc: 0.5941\n",
      "Epoch 2/11\n",
      "26350/26350 [==============================] - 58s 2ms/step - loss: 0.5907 - acc: 0.7983\n",
      "Epoch 3/11\n",
      "26350/26350 [==============================] - 57s 2ms/step - loss: 0.4244 - acc: 0.8563\n",
      "Epoch 4/11\n",
      "26350/26350 [==============================] - 58s 2ms/step - loss: 0.3369 - acc: 0.8875\n",
      "Epoch 5/11\n",
      "26350/26350 [==============================] - 58s 2ms/step - loss: 0.2790 - acc: 0.9049\n",
      "Epoch 6/11\n",
      "26350/26350 [==============================] - 58s 2ms/step - loss: 0.2471 - acc: 0.9165\n",
      "Epoch 7/11\n",
      "26350/26350 [==============================] - 57s 2ms/step - loss: 0.2138 - acc: 0.9271\n",
      "Epoch 8/11\n",
      "26350/26350 [==============================] - 58s 2ms/step - loss: 0.1923 - acc: 0.9361\n",
      "Epoch 9/11\n",
      "26350/26350 [==============================] - 192s 7ms/step - loss: 0.1845 - acc: 0.9366\n",
      "Epoch 10/11\n",
      "26350/26350 [==============================] - 58s 2ms/step - loss: 0.1581 - acc: 0.9442\n",
      "Epoch 11/11\n",
      "26350/26350 [==============================] - 57s 2ms/step - loss: 0.1519 - acc: 0.9474\n"
     ]
    },
    {
     "data": {
      "text/plain": [
       "<keras.callbacks.History at 0x7f3f31a51d50>"
      ]
     },
     "execution_count": 79,
     "metadata": {},
     "output_type": "execute_result"
    }
   ],
   "source": [
    "model.fit(X,y,epochs=11,batch_size=32,shuffle=True,class_weight=class_weight)"
   ]
  }
 ],
 "metadata": {
  "kernelspec": {
   "display_name": "Python 3",
   "language": "python",
   "name": "python3"
  },
  "language_info": {
   "codemirror_mode": {
    "name": "ipython",
    "version": 3
   },
   "file_extension": ".py",
   "mimetype": "text/x-python",
   "name": "python",
   "nbconvert_exporter": "python",
   "pygments_lexer": "ipython3",
   "version": "3.7.4"
  }
 },
 "nbformat": 4,
 "nbformat_minor": 2
}
